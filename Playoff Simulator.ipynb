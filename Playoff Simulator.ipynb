{
 "cells": [
  {
   "cell_type": "code",
   "execution_count": 728,
   "metadata": {
    "collapsed": true
   },
   "outputs": [],
   "source": [
    "import numpy as np\n",
    "import pandas as pd\n",
    "import matplotlib.mlab as mlab\n",
    "import matplotlib.pyplot as plt\n",
    "from scipy.special import comb\n",
    "%matplotlib inline"
   ]
  },
  {
   "cell_type": "code",
   "execution_count": 729,
   "metadata": {
    "collapsed": true
   },
   "outputs": [],
   "source": [
    "def generate_revenue(num_games,round_str,df_revenue,teams):\n",
    "    #make sure team 1 is the higher seed\n",
    "    rev_high_seed = df_revenue.loc[(teams[0])].loc[round_str]\n",
    "    rev_low_seed = df_revenue.loc[(teams[1])].loc[round_str]\n",
    "    if num_games == 4:\n",
    "        return 2.*rev_high_seed + 2.*rev_low_seed\n",
    "    if num_games == 5:\n",
    "        return 3.*rev_high_seed + 2.*rev_low_seed\n",
    "    if num_games == 6:\n",
    "        return 3.*rev_high_seed + 3.*rev_low_seed\n",
    "    if num_games == 7:\n",
    "        return 4.*rev_high_seed + 3.*rev_low_seed\n",
    "    return None"
   ]
  },
  {
   "cell_type": "code",
   "execution_count": 730,
   "metadata": {
    "collapsed": false
   },
   "outputs": [],
   "source": [
    "def generate_probabilites(num_games,df_probs,teams, finals = False):\n",
    "    #check if num_games - 4,5,6,7\n",
    "    if finals == False:\n",
    "        p_H = df_probs.loc[(teams[0],teams[1])].loc['Prob1WinsHome']\n",
    "        p_A = df_probs.loc[(teams[0],teams[1])].loc['Prob1WinsAway']\n",
    "    if finals == True:\n",
    "        df_final_probs = build_final_probs()\n",
    "        df = df_final_probs[df_final_probs['team1'] == teams[0]]\n",
    "        df = df[df['team2'] == teams[1]]\n",
    "        p_H = df.iloc[0][2]\n",
    "        p_A = df.iloc[0][3]\n",
    "        \n",
    "    if num_games == 4:\n",
    "        probA = (p_H*p_A)**2.\n",
    "        probB = ((1.-p_H)*(1.-p_A))**2.\n",
    "    if num_games == 5:\n",
    "        probA = p_H**2.*p_A*(1.-p_A) + p_A**2.*p_H*(1.-p_H)\n",
    "        probA *= 2.*p_H\n",
    "        probB = (1.-p_H)**2.*p_A*(1-p_A) + (1.-p_A)**2.*p_H*(1.-p_H)\n",
    "        probB *= 2.*(1-p_H)\n",
    "    if num_games == 6:\n",
    "        probA = 0\n",
    "        probB = 0\n",
    "        for i in range(1,4):\n",
    "            probA += p_H**i * (1.-p_H)**(3.-i) * p_A**(3.-i) * (1.-p_A)**(i-1.)*comb(3,i)*comb(2,3-i)\n",
    "            probB += (1.-p_H)**i * p_H**(3.-i) * (1.-p_A)**(3.-i) * (p_A)**(i-1.)*comb(3,i)*comb(2,3-i)\n",
    "        probA *= p_A\n",
    "        probB *= (1-p_A)\n",
    "    if num_games == 7:\n",
    "        probA = 0\n",
    "        probB = 0\n",
    "        for i in range(0,4):\n",
    "            probA += p_H**i * (1.-p_H)**(3.-i) * p_A**(3.-i) * (1.-p_A)**(i)*comb(3,i)*comb(3,3-i)\n",
    "            probB += (1.-p_H)**i * p_H**(3.-i) * (1.-p_A)**(3.-i) * (p_A)**(i)*comb(3,i)*comb(3,3-i)\n",
    "        probA *= p_H\n",
    "        probB *= (1-p_H)\n",
    "    return probA,probB"
   ]
  },
  {
   "cell_type": "code",
   "execution_count": 731,
   "metadata": {
    "collapsed": true
   },
   "outputs": [],
   "source": [
    "def series_probs(teams,df_probs, finals = False):\n",
    "    probs = []\n",
    "    teams_arr = []\n",
    "    for i in range(4,8):\n",
    "        teams_arr.append( (i,teams[0]) )\n",
    "        teams_arr.append( (i,teams[1]) )\n",
    "        probA,probB = generate_probabilites(i,df_probs,teams, finals)\n",
    "        probs.append(probA)\n",
    "        probs.append(probB)\n",
    "    return probs,teams_arr"
   ]
  },
  {
   "cell_type": "code",
   "execution_count": 732,
   "metadata": {
    "collapsed": true
   },
   "outputs": [],
   "source": [
    "def simulate_round(teams, round_num, df_revenue, df_probs, finals = False):\n",
    "    advancing_teams = []\n",
    "    revenue = 0\n",
    "    for pair in teams:\n",
    "        outcome_probs, outcomes = series_probs(pair, df_probs, finals)\n",
    "\n",
    "        index = np.random.choice(np.arange(0,8), p = outcome_probs)\n",
    "        outcome = outcomes[index]\n",
    "        advancing_teams.append(outcome[1])\n",
    "        revenue += generate_revenue(outcome[0], round_num, df_revenue, pair)\n",
    "    return revenue, advancing_teams"
   ]
  },
  {
   "cell_type": "code",
   "execution_count": 733,
   "metadata": {
    "collapsed": false
   },
   "outputs": [],
   "source": [
    "def compare_seeding(team1, team2):\n",
    "    if team1[-1] < team2[-1]:\n",
    "        return team1, team2\n",
    "    elif team1[-1] == team2[-1]:\n",
    "        return team1, team2\n",
    "    else: \n",
    "        return team2, team1"
   ]
  },
  {
   "cell_type": "code",
   "execution_count": 734,
   "metadata": {
    "collapsed": false
   },
   "outputs": [],
   "source": [
    "def construct_bracket(bracket):\n",
    "    new_bracket = []\n",
    "    if len(bracket) == 1:\n",
    "        return bracket[0]\n",
    "    \n",
    "    for i in range(int(len(bracket)/2)):\n",
    "        team1, team2 = compare_seeding(bracket[2*i],bracket[2*i+1])\n",
    "        \n",
    "        new_bracket.append([team1, team2])\n",
    "    return new_bracket"
   ]
  },
  {
   "cell_type": "code",
   "execution_count": 735,
   "metadata": {
    "collapsed": false
   },
   "outputs": [],
   "source": [
    "def generate_bracket(division):\n",
    "    bracket = []\n",
    "    for i in range(1,5):\n",
    "        bracket.append([division+str(i),division+str(9-i)])\n",
    "    temp = bracket[1]\n",
    "    bracket[1] = bracket[3]\n",
    "    bracket[3] = temp\n",
    "    return bracket"
   ]
  },
  {
   "cell_type": "code",
   "execution_count": 736,
   "metadata": {
    "collapsed": true
   },
   "outputs": [],
   "source": [
    "teams = [('East1','East2')]\n",
    "round_num = 'Round1_Gate'\n",
    "df_revenue = pd.DataFrame.from_csv(\"Business-Track-Application-Datasets.csv\", index_col = 0)\n",
    "df_probs = pd.DataFrame.from_csv('win_probabilities.csv', index_col = (0,1), tupleize_cols = True)"
   ]
  },
  {
   "cell_type": "code",
   "execution_count": 737,
   "metadata": {
    "collapsed": false
   },
   "outputs": [
    {
     "data": {
      "text/plain": [
       "(10435716.0, ['East1'])"
      ]
     },
     "execution_count": 737,
     "metadata": {},
     "output_type": "execute_result"
    }
   ],
   "source": [
    "simulate_round(teams, round_num, df_revenue, df_probs)"
   ]
  },
  {
   "cell_type": "code",
   "execution_count": 738,
   "metadata": {
    "collapsed": false
   },
   "outputs": [],
   "source": [
    "def build_final_probs():\n",
    "    df_probs = pd.DataFrame.from_csv('win_probabilities.csv', index_col = (0,1), tupleize_cols = True)\n",
    "    df = pd.DataFrame()\n",
    "    for i in range(1,9):\n",
    "        team1 = 'East'+str(i)\n",
    "        for i in range(1,9):\n",
    "            team2 = 'West'+str(i)\n",
    "            home_prob = 1-df_probs.loc[(team1,team2)].loc['Prob1WinsAway']\n",
    "            away_prob = 1-df_probs.loc[(team1,team2)].loc['Prob1WinsHome']\n",
    "            df = df.append(pd.DataFrame([[team2, team1, home_prob, away_prob]], columns = ['team1','team2', 'Prob1WinsHome', 'Prob1WinsAway']))\n",
    "            #print(pd.DataFrame([[(team2,team1), home_prob, away_prob]], columns=['index', 'Prob1WinsHome', 'Prob1WinsAway']))\n",
    "    #df = df.set_index(df['index'])\n",
    "    return df"
   ]
  },
  {
   "cell_type": "code",
   "execution_count": 739,
   "metadata": {
    "collapsed": false
   },
   "outputs": [],
   "source": [
    "def simulate_playoff(df_probs, df_revenue):\n",
    "    east_bracket = generate_bracket('East')\n",
    "    west_bracket = generate_bracket('West')\n",
    "    current_round = 'Round1_Gate'\n",
    "    total_revenue = 0\n",
    "    for i in range(1,4):\n",
    "        revenue, teams = simulate_round(east_bracket,current_round, df_revenue, df_probs)\n",
    "        total_revenue += revenue\n",
    "        east_bracket = construct_bracket(teams)\n",
    "        \n",
    "        revenue, teams = simulate_round(west_bracket,current_round, df_revenue, df_probs)\n",
    "        total_revenue += revenue\n",
    "        west_bracket = construct_bracket(teams)\n",
    "        \n",
    "        current_round = 'Round' + str(i+1) + '_Gate'\n",
    "    #finals\n",
    "    team1, team2 = compare_seeding(east_bracket, west_bracket)\n",
    "    #print([[team1, team2]])\n",
    "    #df_final_probs = build_final_probs(df_probs)\n",
    "    if team1[0] == 'W':\n",
    "        finals = True\n",
    "    else:\n",
    "        finals = False\n",
    "\n",
    "    revenue, teams = simulate_round([(team1, team2)], current_round, df_revenue, df_probs, finals)\n",
    "    total_revenue += revenue\n",
    "    return total_revenue, teams"
   ]
  },
  {
   "cell_type": "code",
   "execution_count": 741,
   "metadata": {
    "collapsed": true
   },
   "outputs": [],
   "source": [
    "df_revenue = pd.DataFrame.from_csv(\"Business-Track-Application-Datasets.csv\", index_col = 0)\n",
    "df_probs = pd.DataFrame.from_csv('win_probabilities.csv', index_col = (0,1), tupleize_cols = True)"
   ]
  },
  {
   "cell_type": "code",
   "execution_count": 744,
   "metadata": {
    "collapsed": false
   },
   "outputs": [
    {
     "name": "stdout",
     "output_type": "stream",
     "text": [
      "0\n",
      "10\n",
      "20\n",
      "30\n",
      "40\n",
      "50\n",
      "60\n",
      "70\n",
      "80\n",
      "90\n",
      "100\n",
      "110\n",
      "120\n",
      "130\n",
      "140\n",
      "150\n",
      "160\n",
      "170\n",
      "180\n",
      "190\n"
     ]
    }
   ],
   "source": [
    "y = []\n",
    "for i in range(0,200):\n",
    "    if i%10 == 0:\n",
    "        print(i)\n",
    "    y.append(simulate_playoff(df_probs, df_revenue)[0])"
   ]
  },
  {
   "cell_type": "code",
   "execution_count": 746,
   "metadata": {
    "collapsed": false
   },
   "outputs": [
    {
     "data": {
      "image/png": "[encoded data removed]",
      "text/plain": [
       "<matplotlib.figure.Figure at 0x11b2ae518>"
      ]
     },
     "metadata": {},
     "output_type": "display_data"
    }
   ],
   "source": [
    "plt.hist(y, bins = 50)\n",
    "plt.show()"
   ]
  },
  {
   "cell_type": "code",
   "execution_count": null,
   "metadata": {
    "collapsed": true
   },
   "outputs": [],
   "source": []
  },
  {
   "cell_type": "code",
   "execution_count": null,
   "metadata": {
    "collapsed": true
   },
   "outputs": [],
   "source": []
  }
 ],
 "metadata": {
  "kernelspec": {
   "display_name": "Python [Root]",
   "language": "python",
   "name": "Python [Root]"
  },
  "language_info": {
   "codemirror_mode": {
    "name": "ipython",
    "version": 3
   },
   "file_extension": ".py",
   "mimetype": "text/x-python",
   "name": "python",
   "nbconvert_exporter": "python",
   "pygments_lexer": "ipython3",
   "version": "3.5.2"
  }
 },
 "nbformat": 4,
 "nbformat_minor": 2
}
